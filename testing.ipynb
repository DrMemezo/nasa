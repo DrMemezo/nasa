{
 "cells": [
  {
   "cell_type": "code",
   "execution_count": 4,
   "metadata": {},
   "outputs": [
    {
     "name": "stdout",
     "output_type": "stream",
     "text": [
      "     country  year  co2  co2_growth_abs\n",
      "8951   China  1850  NaN             NaN\n",
      "8952   China  1851  NaN             NaN\n",
      "8953   China  1852  NaN             NaN\n",
      "8954   China  1853  NaN             NaN\n",
      "8955   China  1854  NaN             NaN\n",
      "<class 'pandas.core.frame.DataFrame'>\n",
      "Index: 1073 entries, 8951 to 45135\n",
      "Data columns (total 4 columns):\n",
      " #   Column          Non-Null Count  Dtype  \n",
      "---  ------          --------------  -----  \n",
      " 0   country         1073 non-null   object \n",
      " 1   year            1073 non-null   int64  \n",
      " 2   co2             997 non-null    float64\n",
      " 3   co2_growth_abs  991 non-null    float64\n",
      "dtypes: float64(2), int64(1), object(1)\n",
      "memory usage: 41.9+ KB\n",
      "None\n",
      "              year           co2  co2_growth_abs\n",
      "count  1073.000000    997.000000      991.000000\n",
      "mean   1911.839702    922.863661       20.420323\n",
      "std      67.605242   1731.814559       96.045461\n",
      "min    1750.000000      0.253000     -547.517000\n",
      "25%    1862.000000     36.155000       -0.144000\n",
      "50%    1915.000000    316.211000        2.305000\n",
      "75%    1969.000000    813.950000       22.291000\n",
      "max    2022.000000  11396.777000      911.782000\n"
     ]
    }
   ],
   "source": [
    "import pandas as pd\n",
    "import pathlib\n",
    "\n",
    "path = pathlib.Path(\"owid-co2-data.xlsx\")\n",
    "\n",
    "df = pd.read_excel(path, sheet_name=\"Data\", usecols=[\"country\",\"year\",\"co2\",\"co2_growth_abs\"])\n",
    "countries = [\"United Kingdom\", \"United States\", \"China\", \"India\", \"Germany\"]\n",
    "\n",
    "filtered_df = df[df.iloc[:, 0].isin(countries)]\n",
    "\n",
    "print(filtered_df.head())\n",
    "print(filtered_df.info())\n",
    "print(filtered_df.describe())\n"
   ]
  },
  {
   "cell_type": "code",
   "execution_count": null,
   "metadata": {},
   "outputs": [],
   "source": []
  }
 ],
 "metadata": {
  "kernelspec": {
   "display_name": "Python 3",
   "language": "python",
   "name": "python3"
  },
  "language_info": {
   "codemirror_mode": {
    "name": "ipython",
    "version": 3
   },
   "file_extension": ".py",
   "mimetype": "text/x-python",
   "name": "python",
   "nbconvert_exporter": "python",
   "pygments_lexer": "ipython3",
   "version": "3.12.3"
  }
 },
 "nbformat": 4,
 "nbformat_minor": 2
}
